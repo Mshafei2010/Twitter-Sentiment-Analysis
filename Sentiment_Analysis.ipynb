{
  "nbformat": 4,
  "nbformat_minor": 0,
  "metadata": {
    "colab": {
      "provenance": [],
      "collapsed_sections": [
        "V135-XIp6NK7",
        "y6rGKvsgvvfL",
        "ZYI1wERnyI0B",
        "zI67gsWl0egl"
      ],
      "authorship_tag": "ABX9TyO0C5njCxsdbBRMqf7DHAuy",
      "include_colab_link": true
    },
    "kernelspec": {
      "name": "python3",
      "display_name": "Python 3"
    },
    "language_info": {
      "name": "python"
    }
  },
  "cells": [
    {
      "cell_type": "markdown",
      "metadata": {
        "id": "view-in-github",
        "colab_type": "text"
      },
      "source": [
        "<a href=\"https://colab.research.google.com/github/Mshafei2010/Twitter-Sentiment-Analysis/blob/main/Sentiment_Analysis.ipynb\" target=\"_parent\"><img src=\"https://colab.research.google.com/assets/colab-badge.svg\" alt=\"Open In Colab\"/></a>"
      ]
    },
    {
      "cell_type": "markdown",
      "source": [
        "# Imports"
      ],
      "metadata": {
        "id": "sdY72dYddgTV"
      }
    },
    {
      "cell_type": "markdown",
      "source": [
        "## downlaods"
      ],
      "metadata": {
        "id": "NTLm6tUJduHX"
      }
    },
    {
      "cell_type": "code",
      "source": [
        "nltk.download('words')\n",
        "nltk.download('stopwords')\n",
        "nltk.download('punkt')\n",
        "nltk.download('wordnet')\n",
        "!pip install emot\n",
        "!pip install contractions"
      ],
      "metadata": {
        "id": "1X0iSXtzdmh4"
      },
      "execution_count": null,
      "outputs": []
    },
    {
      "cell_type": "code",
      "execution_count": 74,
      "metadata": {
        "id": "mDYN0x2AZnlt"
      },
      "outputs": [],
      "source": [
        "import nltk\n",
        "from nltk.corpus import words\n",
        "from nltk.corpus import twitter_samples\n",
        "from nltk.corpus import stopwords\n",
        "from nltk.tokenize import word_tokenize\n",
        "from nltk.stem import WordNetLemmatizer\n",
        "import re\n",
        "import nltk\n",
        "import emot\n",
        "import contractions\n",
        "import pandas as pd\n",
        "import numpy as np\n",
        "from gensim.models.doc2vec import Doc2Vec, TaggedDocument\n",
        "from sklearn.model_selection import train_test_split\n",
        "import torch\n",
        "from torch.utils.data import random_split, TensorDataset, DataLoader\n",
        "import torch.nn as nn\n",
        "import torch.optim as optim\n",
        "import torch.nn.functional as F\n",
        "from torch.optim import Adam\n",
        "from sklearn.feature_extraction.text import TfidfVectorizer"
      ]
    },
    {
      "cell_type": "markdown",
      "source": [
        "# Fetching Data"
      ],
      "metadata": {
        "id": "fqrogRnjdysU"
      }
    },
    {
      "cell_type": "code",
      "source": [
        "nltk.download('twitter_samples')"
      ],
      "metadata": {
        "colab": {
          "base_uri": "https://localhost:8080/"
        },
        "id": "CKrEb6ahdyTk",
        "outputId": "fd3bb709-d8dc-4c7e-8b05-833a5bf1a7ed"
      },
      "execution_count": null,
      "outputs": [
        {
          "output_type": "stream",
          "name": "stderr",
          "text": [
            "[nltk_data] Downloading package twitter_samples to /root/nltk_data...\n",
            "[nltk_data]   Package twitter_samples is already up-to-date!\n"
          ]
        },
        {
          "output_type": "execute_result",
          "data": {
            "text/plain": [
              "True"
            ]
          },
          "metadata": {},
          "execution_count": 10
        }
      ]
    },
    {
      "cell_type": "markdown",
      "source": [
        "## Reading Data"
      ],
      "metadata": {
        "id": "-gGTfywKeBiK"
      }
    },
    {
      "cell_type": "code",
      "source": [
        "positive_tweets=twitter_samples.strings('positive_tweets.json')\n",
        "negative_tweets=twitter_samples.strings('negative_tweets.json')"
      ],
      "metadata": {
        "id": "DAhb2TT9d_p0"
      },
      "execution_count": null,
      "outputs": []
    },
    {
      "cell_type": "markdown",
      "source": [
        "## Explore Data"
      ],
      "metadata": {
        "id": "yOPo500peSz0"
      }
    },
    {
      "cell_type": "code",
      "source": [
        "print(positive_tweets[0])\n",
        "print(negative_tweets[0])"
      ],
      "metadata": {
        "colab": {
          "base_uri": "https://localhost:8080/"
        },
        "id": "6n1ThQ6MeQb8",
        "outputId": "71b781a3-5e3e-4e4c-b046-19edd288ef26"
      },
      "execution_count": null,
      "outputs": [
        {
          "output_type": "stream",
          "name": "stdout",
          "text": [
            "#FollowFriday @France_Inte @PKuchly57 @Milipol_Paris for being top engaged members in my community this week :)\n",
            "hopeless for tmr :(\n"
          ]
        }
      ]
    },
    {
      "cell_type": "markdown",
      "source": [
        "# Preprocess Data"
      ],
      "metadata": {
        "id": "gJuzlxeeeyV4"
      }
    },
    {
      "cell_type": "code",
      "source": [
        "stop_words = set(stopwords.words('english'))\n",
        "stop_words.add(\"us\")\n",
        "english_wordss = set(words.words())"
      ],
      "metadata": {
        "id": "ad85fgYaffc_"
      },
      "execution_count": 209,
      "outputs": []
    },
    {
      "cell_type": "code",
      "source": [
        "def delete_and_append(string, beg_index, end_index, char):\n",
        "  new_string = string[:beg_index] + char + string[end_index + 1:]\n",
        "  return new_string"
      ],
      "metadata": {
        "id": "jkXNqa8cf51D"
      },
      "execution_count": 210,
      "outputs": []
    },
    {
      "cell_type": "code",
      "source": [
        "emot_obj = emot.core.emot()\n",
        "def preprocess_tweet(tweet):\n",
        "  #I'm -> I am\n",
        "  tweet = contractions.fix(tweet)\n",
        "  #emotions\n",
        "  if emot_obj.emoticons(tweet)['location']!=[] or emot_obj.emoticons(tweet)['mean']!=[]:\n",
        "    tweet_with_emo = delete_and_append(tweet,emot_obj.emoticons(tweet)['location'][0][0],emot_obj.emoticons(tweet)['location'][0][0],emot_obj.emoticons(tweet)['mean'][0].split()[0])\n",
        "  else:\n",
        "    tweet_with_emo=tweet\n",
        "  #lowercase\n",
        "  tweet_with_emo=tweet_with_emo.lower()\n",
        "  #hashtag\n",
        "  tweet_hastag_free= re.sub(r'#\\w+', '', tweet_with_emo)\n",
        "  #mentions\n",
        "  tweet_mentions_free= re.sub(r'@\\w+', '', tweet_hastag_free)\n",
        "  #spaces\n",
        "  hastag_mentions_free=tweet_mentions_free.lstrip(' ')\n",
        "  #get each word\n",
        "  words = word_tokenize(hastag_mentions_free)\n",
        "  #filter from stopwords\n",
        "  filtered_words = [word for word in words if word not in stop_words]\n",
        "  #make limitize for for words\n",
        "  lemmatizer=WordNetLemmatizer()\n",
        "  #verb\n",
        "  lemmatized_words=[lemmatizer.lemmatize(word,pos='v') for word in filtered_words]\n",
        "  #adjective \"better\" → \"good\"\n",
        "  lemmatized_words=[lemmatizer.lemmatize(word,pos='a') for word in lemmatized_words]\n",
        "  #adverbs \"best\" → \"well\"\n",
        "  lemmatized_words=[lemmatizer.lemmatize(word,pos='r') for word in lemmatized_words]\n",
        "  #remove plural\n",
        "  lemmatized_words=[lemmatizer.lemmatize(word,pos='s') for word in lemmatized_words]\n",
        "  #noun\n",
        "  #ERRRRRORRRRR us -> u ------> fixed by adding us\n",
        "  lemmatized_words=[lemmatizer.lemmatize(word,pos='n') for word in lemmatized_words]\n",
        "  #remove special charcters and spaces\n",
        "  filtered_word = [re.sub(r'[^\\w\\s]', '', word).strip() for word in lemmatized_words if re.sub(r'[^\\w\\s]', '', word).strip() != '']\n",
        "  #filter digits\n",
        "  filtered_word = [word for word in filtered_word if not word.isdigit()]\n",
        "  #remove words with numbers\n",
        "  filtered_word = [word for word in filtered_word if not any(char.isdigit() for char in word)]\n",
        "  #remove non english\n",
        "  filtered_word = [word for word in filtered_word if word.isalpha()]\n",
        "  filtered_word = [word for word in filtered_word if word in english_wordss]\n",
        "  return filtered_word"
      ],
      "metadata": {
        "id": "o9Dw9GA5fsyZ"
      },
      "execution_count": 215,
      "outputs": []
    },
    {
      "cell_type": "code",
      "source": [
        "result = preprocess_tweet(negative_tweets[0])\n",
        "print(result)"
      ],
      "metadata": {
        "colab": {
          "base_uri": "https://localhost:8080/"
        },
        "id": "jUaI11cagOqC",
        "outputId": "09cc22ec-0ef4-400b-ff05-91a5559df33d"
      },
      "execution_count": 216,
      "outputs": [
        {
          "output_type": "stream",
          "name": "stdout",
          "text": [
            "['hopeless', 'tomorrow', 'frown']\n"
          ]
        }
      ]
    },
    {
      "cell_type": "code",
      "source": [
        "df = pd.DataFrame(columns=['tweet words', 'label'])\n",
        "for tweet in positive_tweets:\n",
        "  result = preprocess_tweet(tweet)\n",
        "  if result!=[]:\n",
        "    df.loc[len(df.index)] = [result, 1]\n",
        "for tweet in negative_tweets:\n",
        "  result = preprocess_tweet(tweet)\n",
        "  if result!=[]:\n",
        "    df.loc[len(df.index)] = [result, 0]\n",
        "df.head()"
      ],
      "metadata": {
        "colab": {
          "base_uri": "https://localhost:8080/",
          "height": 206
        },
        "id": "rNUl-KehvzeJ",
        "outputId": "cf9c38a5-ef98-4b9c-9e9d-8c67fd4b107c"
      },
      "execution_count": 217,
      "outputs": [
        {
          "output_type": "execute_result",
          "data": {
            "text/plain": [
              "                                         tweet words  label\n",
              "0      [top, engage, member, community, week, happy]      1\n",
              "1  [hey, jam, odd, skeptical, please, call, conta...      1\n",
              "2  [listen, last, night, happy, bleed, amaze, track]      1\n",
              "3                                            [happy]      1\n",
              "4  [verify, succeed, get, blue, tick, mark, profi...      1"
            ],
            "text/html": [
              "\n",
              "  <div id=\"df-bf90e3bb-952f-4934-b520-d6e1c9abc9bf\" class=\"colab-df-container\">\n",
              "    <div>\n",
              "<style scoped>\n",
              "    .dataframe tbody tr th:only-of-type {\n",
              "        vertical-align: middle;\n",
              "    }\n",
              "\n",
              "    .dataframe tbody tr th {\n",
              "        vertical-align: top;\n",
              "    }\n",
              "\n",
              "    .dataframe thead th {\n",
              "        text-align: right;\n",
              "    }\n",
              "</style>\n",
              "<table border=\"1\" class=\"dataframe\">\n",
              "  <thead>\n",
              "    <tr style=\"text-align: right;\">\n",
              "      <th></th>\n",
              "      <th>tweet words</th>\n",
              "      <th>label</th>\n",
              "    </tr>\n",
              "  </thead>\n",
              "  <tbody>\n",
              "    <tr>\n",
              "      <th>0</th>\n",
              "      <td>[top, engage, member, community, week, happy]</td>\n",
              "      <td>1</td>\n",
              "    </tr>\n",
              "    <tr>\n",
              "      <th>1</th>\n",
              "      <td>[hey, jam, odd, skeptical, please, call, conta...</td>\n",
              "      <td>1</td>\n",
              "    </tr>\n",
              "    <tr>\n",
              "      <th>2</th>\n",
              "      <td>[listen, last, night, happy, bleed, amaze, track]</td>\n",
              "      <td>1</td>\n",
              "    </tr>\n",
              "    <tr>\n",
              "      <th>3</th>\n",
              "      <td>[happy]</td>\n",
              "      <td>1</td>\n",
              "    </tr>\n",
              "    <tr>\n",
              "      <th>4</th>\n",
              "      <td>[verify, succeed, get, blue, tick, mark, profi...</td>\n",
              "      <td>1</td>\n",
              "    </tr>\n",
              "  </tbody>\n",
              "</table>\n",
              "</div>\n",
              "    <div class=\"colab-df-buttons\">\n",
              "\n",
              "  <div class=\"colab-df-container\">\n",
              "    <button class=\"colab-df-convert\" onclick=\"convertToInteractive('df-bf90e3bb-952f-4934-b520-d6e1c9abc9bf')\"\n",
              "            title=\"Convert this dataframe to an interactive table.\"\n",
              "            style=\"display:none;\">\n",
              "\n",
              "  <svg xmlns=\"http://www.w3.org/2000/svg\" height=\"24px\" viewBox=\"0 -960 960 960\">\n",
              "    <path d=\"M120-120v-720h720v720H120Zm60-500h600v-160H180v160Zm220 220h160v-160H400v160Zm0 220h160v-160H400v160ZM180-400h160v-160H180v160Zm440 0h160v-160H620v160ZM180-180h160v-160H180v160Zm440 0h160v-160H620v160Z\"/>\n",
              "  </svg>\n",
              "    </button>\n",
              "\n",
              "  <style>\n",
              "    .colab-df-container {\n",
              "      display:flex;\n",
              "      gap: 12px;\n",
              "    }\n",
              "\n",
              "    .colab-df-convert {\n",
              "      background-color: #E8F0FE;\n",
              "      border: none;\n",
              "      border-radius: 50%;\n",
              "      cursor: pointer;\n",
              "      display: none;\n",
              "      fill: #1967D2;\n",
              "      height: 32px;\n",
              "      padding: 0 0 0 0;\n",
              "      width: 32px;\n",
              "    }\n",
              "\n",
              "    .colab-df-convert:hover {\n",
              "      background-color: #E2EBFA;\n",
              "      box-shadow: 0px 1px 2px rgba(60, 64, 67, 0.3), 0px 1px 3px 1px rgba(60, 64, 67, 0.15);\n",
              "      fill: #174EA6;\n",
              "    }\n",
              "\n",
              "    .colab-df-buttons div {\n",
              "      margin-bottom: 4px;\n",
              "    }\n",
              "\n",
              "    [theme=dark] .colab-df-convert {\n",
              "      background-color: #3B4455;\n",
              "      fill: #D2E3FC;\n",
              "    }\n",
              "\n",
              "    [theme=dark] .colab-df-convert:hover {\n",
              "      background-color: #434B5C;\n",
              "      box-shadow: 0px 1px 3px 1px rgba(0, 0, 0, 0.15);\n",
              "      filter: drop-shadow(0px 1px 2px rgba(0, 0, 0, 0.3));\n",
              "      fill: #FFFFFF;\n",
              "    }\n",
              "  </style>\n",
              "\n",
              "    <script>\n",
              "      const buttonEl =\n",
              "        document.querySelector('#df-bf90e3bb-952f-4934-b520-d6e1c9abc9bf button.colab-df-convert');\n",
              "      buttonEl.style.display =\n",
              "        google.colab.kernel.accessAllowed ? 'block' : 'none';\n",
              "\n",
              "      async function convertToInteractive(key) {\n",
              "        const element = document.querySelector('#df-bf90e3bb-952f-4934-b520-d6e1c9abc9bf');\n",
              "        const dataTable =\n",
              "          await google.colab.kernel.invokeFunction('convertToInteractive',\n",
              "                                                    [key], {});\n",
              "        if (!dataTable) return;\n",
              "\n",
              "        const docLinkHtml = 'Like what you see? Visit the ' +\n",
              "          '<a target=\"_blank\" href=https://colab.research.google.com/notebooks/data_table.ipynb>data table notebook</a>'\n",
              "          + ' to learn more about interactive tables.';\n",
              "        element.innerHTML = '';\n",
              "        dataTable['output_type'] = 'display_data';\n",
              "        await google.colab.output.renderOutput(dataTable, element);\n",
              "        const docLink = document.createElement('div');\n",
              "        docLink.innerHTML = docLinkHtml;\n",
              "        element.appendChild(docLink);\n",
              "      }\n",
              "    </script>\n",
              "  </div>\n",
              "\n",
              "\n",
              "<div id=\"df-6ad6c907-35a4-4315-8033-02d1e2755764\">\n",
              "  <button class=\"colab-df-quickchart\" onclick=\"quickchart('df-6ad6c907-35a4-4315-8033-02d1e2755764')\"\n",
              "            title=\"Suggest charts\"\n",
              "            style=\"display:none;\">\n",
              "\n",
              "<svg xmlns=\"http://www.w3.org/2000/svg\" height=\"24px\"viewBox=\"0 0 24 24\"\n",
              "     width=\"24px\">\n",
              "    <g>\n",
              "        <path d=\"M19 3H5c-1.1 0-2 .9-2 2v14c0 1.1.9 2 2 2h14c1.1 0 2-.9 2-2V5c0-1.1-.9-2-2-2zM9 17H7v-7h2v7zm4 0h-2V7h2v10zm4 0h-2v-4h2v4z\"/>\n",
              "    </g>\n",
              "</svg>\n",
              "  </button>\n",
              "\n",
              "<style>\n",
              "  .colab-df-quickchart {\n",
              "      --bg-color: #E8F0FE;\n",
              "      --fill-color: #1967D2;\n",
              "      --hover-bg-color: #E2EBFA;\n",
              "      --hover-fill-color: #174EA6;\n",
              "      --disabled-fill-color: #AAA;\n",
              "      --disabled-bg-color: #DDD;\n",
              "  }\n",
              "\n",
              "  [theme=dark] .colab-df-quickchart {\n",
              "      --bg-color: #3B4455;\n",
              "      --fill-color: #D2E3FC;\n",
              "      --hover-bg-color: #434B5C;\n",
              "      --hover-fill-color: #FFFFFF;\n",
              "      --disabled-bg-color: #3B4455;\n",
              "      --disabled-fill-color: #666;\n",
              "  }\n",
              "\n",
              "  .colab-df-quickchart {\n",
              "    background-color: var(--bg-color);\n",
              "    border: none;\n",
              "    border-radius: 50%;\n",
              "    cursor: pointer;\n",
              "    display: none;\n",
              "    fill: var(--fill-color);\n",
              "    height: 32px;\n",
              "    padding: 0;\n",
              "    width: 32px;\n",
              "  }\n",
              "\n",
              "  .colab-df-quickchart:hover {\n",
              "    background-color: var(--hover-bg-color);\n",
              "    box-shadow: 0 1px 2px rgba(60, 64, 67, 0.3), 0 1px 3px 1px rgba(60, 64, 67, 0.15);\n",
              "    fill: var(--button-hover-fill-color);\n",
              "  }\n",
              "\n",
              "  .colab-df-quickchart-complete:disabled,\n",
              "  .colab-df-quickchart-complete:disabled:hover {\n",
              "    background-color: var(--disabled-bg-color);\n",
              "    fill: var(--disabled-fill-color);\n",
              "    box-shadow: none;\n",
              "  }\n",
              "\n",
              "  .colab-df-spinner {\n",
              "    border: 2px solid var(--fill-color);\n",
              "    border-color: transparent;\n",
              "    border-bottom-color: var(--fill-color);\n",
              "    animation:\n",
              "      spin 1s steps(1) infinite;\n",
              "  }\n",
              "\n",
              "  @keyframes spin {\n",
              "    0% {\n",
              "      border-color: transparent;\n",
              "      border-bottom-color: var(--fill-color);\n",
              "      border-left-color: var(--fill-color);\n",
              "    }\n",
              "    20% {\n",
              "      border-color: transparent;\n",
              "      border-left-color: var(--fill-color);\n",
              "      border-top-color: var(--fill-color);\n",
              "    }\n",
              "    30% {\n",
              "      border-color: transparent;\n",
              "      border-left-color: var(--fill-color);\n",
              "      border-top-color: var(--fill-color);\n",
              "      border-right-color: var(--fill-color);\n",
              "    }\n",
              "    40% {\n",
              "      border-color: transparent;\n",
              "      border-right-color: var(--fill-color);\n",
              "      border-top-color: var(--fill-color);\n",
              "    }\n",
              "    60% {\n",
              "      border-color: transparent;\n",
              "      border-right-color: var(--fill-color);\n",
              "    }\n",
              "    80% {\n",
              "      border-color: transparent;\n",
              "      border-right-color: var(--fill-color);\n",
              "      border-bottom-color: var(--fill-color);\n",
              "    }\n",
              "    90% {\n",
              "      border-color: transparent;\n",
              "      border-bottom-color: var(--fill-color);\n",
              "    }\n",
              "  }\n",
              "</style>\n",
              "\n",
              "  <script>\n",
              "    async function quickchart(key) {\n",
              "      const quickchartButtonEl =\n",
              "        document.querySelector('#' + key + ' button');\n",
              "      quickchartButtonEl.disabled = true;  // To prevent multiple clicks.\n",
              "      quickchartButtonEl.classList.add('colab-df-spinner');\n",
              "      try {\n",
              "        const charts = await google.colab.kernel.invokeFunction(\n",
              "            'suggestCharts', [key], {});\n",
              "      } catch (error) {\n",
              "        console.error('Error during call to suggestCharts:', error);\n",
              "      }\n",
              "      quickchartButtonEl.classList.remove('colab-df-spinner');\n",
              "      quickchartButtonEl.classList.add('colab-df-quickchart-complete');\n",
              "    }\n",
              "    (() => {\n",
              "      let quickchartButtonEl =\n",
              "        document.querySelector('#df-6ad6c907-35a4-4315-8033-02d1e2755764 button');\n",
              "      quickchartButtonEl.style.display =\n",
              "        google.colab.kernel.accessAllowed ? 'block' : 'none';\n",
              "    })();\n",
              "  </script>\n",
              "</div>\n",
              "\n",
              "    </div>\n",
              "  </div>\n"
            ],
            "application/vnd.google.colaboratory.intrinsic+json": {
              "type": "dataframe",
              "variable_name": "df",
              "summary": "{\n  \"name\": \"df\",\n  \"rows\": 9971,\n  \"fields\": [\n    {\n      \"column\": \"tweet words\",\n      \"properties\": {\n        \"dtype\": \"object\",\n        \"semantic_type\": \"\",\n        \"description\": \"\"\n      }\n    },\n    {\n      \"column\": \"label\",\n      \"properties\": {\n        \"dtype\": \"number\",\n        \"std\": 0,\n        \"min\": 0,\n        \"max\": 1,\n        \"num_unique_values\": 2,\n        \"samples\": [\n          0,\n          1\n        ],\n        \"semantic_type\": \"\",\n        \"description\": \"\"\n      }\n    }\n  ]\n}"
            }
          },
          "metadata": {},
          "execution_count": 217
        }
      ]
    },
    {
      "cell_type": "code",
      "source": [
        "print(df.shape)"
      ],
      "metadata": {
        "colab": {
          "base_uri": "https://localhost:8080/"
        },
        "id": "fK3Gx_Jfw52R",
        "outputId": "d39d5cc0-6989-4fd5-bfb8-5a23edc5b99b"
      },
      "execution_count": 218,
      "outputs": [
        {
          "output_type": "stream",
          "name": "stdout",
          "text": [
            "(9971, 2)\n"
          ]
        }
      ]
    },
    {
      "cell_type": "markdown",
      "source": [
        "# Machine Learning\n",
        "\n",
        "1.   Text Embedding\n",
        "2.   Machine Learning Model\n",
        "\n"
      ],
      "metadata": {
        "id": "V135-XIp6NK7"
      }
    },
    {
      "cell_type": "markdown",
      "source": [
        "## Text Embedding"
      ],
      "metadata": {
        "id": "y6rGKvsgvvfL"
      }
    },
    {
      "cell_type": "markdown",
      "source": [
        "### Doc2Vec"
      ],
      "metadata": {
        "id": "ZYI1wERnyI0B"
      }
    },
    {
      "cell_type": "code",
      "source": [
        "Doc2vec_data = [TaggedDocument(words=doc, tags=[str(i)]) for i, doc in enumerate(df['tweet words'])]\n",
        "print(Doc2vec_data)"
      ],
      "metadata": {
        "id": "qgFrvi2RyHpk"
      },
      "execution_count": null,
      "outputs": []
    },
    {
      "cell_type": "code",
      "source": [
        "doc2vec_model = Doc2Vec(vector_size=100, min_count=1, window = 5 , epochs=100)\n",
        "doc2vec_model.build_vocab(Doc2vec_data)\n",
        "doc2vec_model.train(Doc2vec_data, total_examples=doc2vec_model.corpus_count, epochs=doc2vec_model.epochs)\n",
        "\n",
        "print(doc2vec_model.dv[0])"
      ],
      "metadata": {
        "colab": {
          "base_uri": "https://localhost:8080/"
        },
        "id": "EFkgG-r0yLyv",
        "outputId": "74f9fd46-d03e-4abb-bd7f-ac0d1070901d"
      },
      "execution_count": 50,
      "outputs": [
        {
          "output_type": "stream",
          "name": "stdout",
          "text": [
            "[-0.0259928  -0.1414958  -0.06825285 -0.0238857  -0.01215556 -0.3022812\n",
            " -0.03255841  0.18243347 -0.12728953  0.01848797 -0.09998083 -0.01098354\n",
            " -0.04868787 -0.04161329  0.07414528 -0.09222618  0.26297265  0.01219682\n",
            "  0.09501714 -0.19942158 -0.00532975 -0.05247219 -0.00977621  0.04027597\n",
            "  0.12564792  0.11593635 -0.1030084  -0.05527261  0.11096427  0.00213732\n",
            "  0.3282094   0.05465385 -0.05678825 -0.05746384  0.10632078  0.12865451\n",
            "  0.0915288  -0.20398347  0.18443775 -0.14767827 -0.07917891 -0.27900735\n",
            " -0.05137599  0.09323786  0.05290314  0.11004949 -0.18363628  0.08053365\n",
            " -0.11762113  0.07007325  0.14783034  0.00467675  0.12157117  0.1800047\n",
            " -0.20201768  0.08890102  0.11784799  0.03513597 -0.14623584  0.09913978\n",
            " -0.00728375 -0.0921988  -0.01669612 -0.02353666 -0.1383095   0.22656779\n",
            "  0.01364232  0.05121407 -0.28077158  0.22292581 -0.28289405  0.10056175\n",
            "  0.1248244   0.17152247  0.03314182  0.03903512 -0.24483943  0.1615229\n",
            " -0.01259523  0.04587504 -0.18234825  0.08591085 -0.15691836  0.18058455\n",
            " -0.02694131  0.10241222 -0.0932522   0.10292347  0.13213968  0.08871094\n",
            "  0.08567829  0.04399511 -0.08941621 -0.01034339  0.13745578  0.15412576\n",
            "  0.13974941  0.00394942 -0.00306517 -0.07952248]\n"
          ]
        }
      ]
    },
    {
      "cell_type": "markdown",
      "source": [
        "## Machine Learning Model"
      ],
      "metadata": {
        "id": "zI67gsWl0egl"
      }
    },
    {
      "cell_type": "code",
      "source": [
        "print(len(df['tweet words']))\n",
        "doc_vectors = [doc2vec_model.dv[i] for i in range(len(df['tweet words']))]\n",
        "# print(doc_vectors)\n",
        "\n",
        "\n",
        "X_train, X_test, y_train, y_test = train_test_split(doc_vectors, df['label'], test_size=0.2, random_state=42)"
      ],
      "metadata": {
        "colab": {
          "base_uri": "https://localhost:8080/"
        },
        "id": "tH18txfC0gEk",
        "outputId": "4673c7a4-0e26-4255-e5e1-cb41f703b9aa"
      },
      "execution_count": 55,
      "outputs": [
        {
          "output_type": "stream",
          "name": "stdout",
          "text": [
            "9971\n"
          ]
        }
      ]
    },
    {
      "cell_type": "code",
      "source": [
        "from sklearn.linear_model import LogisticRegression\n",
        "from sklearn.metrics import accuracy_score\n",
        "\n",
        "classifier = LogisticRegression()\n",
        "classifier.fit(X_train, y_train)\n",
        "\n",
        "y_pred = classifier.predict(X_test)\n",
        "\n",
        "accuracy = accuracy_score(y_test, y_pred)\n",
        "print(f\"Accuracy: {accuracy}\")"
      ],
      "metadata": {
        "colab": {
          "base_uri": "https://localhost:8080/"
        },
        "id": "j4jdTim51ztb",
        "outputId": "6bd27ffa-f820-491e-8929-f6f394655023"
      },
      "execution_count": 56,
      "outputs": [
        {
          "output_type": "stream",
          "name": "stdout",
          "text": [
            "Accuracy: 0.8546365914786967\n"
          ]
        }
      ]
    },
    {
      "cell_type": "markdown",
      "source": [
        "# Deep Learning\n",
        "\n"
      ],
      "metadata": {
        "id": "-xt8BgQg2At8"
      }
    },
    {
      "cell_type": "markdown",
      "source": [
        "## Word Embedding"
      ],
      "metadata": {
        "id": "a7dOaXX06rVz"
      }
    },
    {
      "cell_type": "markdown",
      "source": [
        "### TF-IDF"
      ],
      "metadata": {
        "id": "8j3ihgUV61hj"
      }
    },
    {
      "cell_type": "code",
      "source": [
        "def TF_id(all_tweets_lists):\n",
        "  TFvectorizer = TfidfVectorizer()\n",
        "  tweets_matrix = TFvectorizer.fit_transform(all_tweets_lists)\n",
        "  TFdf = pd.DataFrame(tweets_matrix.toarray(), columns=TFvectorizer.get_feature_names_out())\n",
        "  TFdf.set_index([pd.Index(all_tweets_lists)],inplace=True)\n",
        "  return TFdf"
      ],
      "metadata": {
        "id": "rTXrinqx60OH"
      },
      "execution_count": 331,
      "outputs": []
    },
    {
      "cell_type": "code",
      "source": [
        "TFtweets = [' '.join(words) for words in df['tweet words']]\n",
        "TFdf = TF_id(TFtweets)\n",
        "TFdf.head()"
      ],
      "metadata": {
        "colab": {
          "base_uri": "https://localhost:8080/",
          "height": 322
        },
        "id": "MEHjXAJS7uSN",
        "outputId": "6ddfca62-99ed-4a48-d539-b4677836e07a"
      },
      "execution_count": 332,
      "outputs": [
        {
          "output_type": "execute_result",
          "data": {
            "text/plain": [
              "                                                     aa  abandon      able  \\\n",
              "top engage member community week happy              0.0      0.0  0.000000   \n",
              "hey jam odd skeptical please call contact able ...  0.0      0.0  0.292945   \n",
              "listen last night happy bleed amaze track           0.0      0.0  0.000000   \n",
              "happy                                               0.0      0.0  0.000000   \n",
              "verify succeed get blue tick mark profile happy...  0.0      0.0  0.000000   \n",
              "\n",
              "                                                    aboard  abroad  abrupt  \\\n",
              "top engage member community week happy                 0.0     0.0     0.0   \n",
              "hey jam odd skeptical please call contact able ...     0.0     0.0     0.0   \n",
              "listen last night happy bleed amaze track              0.0     0.0     0.0   \n",
              "happy                                                  0.0     0.0     0.0   \n",
              "verify succeed get blue tick mark profile happy...     0.0     0.0     0.0   \n",
              "\n",
              "                                                    abscess  absent  absolute  \\\n",
              "top engage member community week happy                  0.0     0.0       0.0   \n",
              "hey jam odd skeptical please call contact able ...      0.0     0.0       0.0   \n",
              "listen last night happy bleed amaze track               0.0     0.0       0.0   \n",
              "happy                                                   0.0     0.0       0.0   \n",
              "verify succeed get blue tick mark profile happy...      0.0     0.0       0.0   \n",
              "\n",
              "                                                    absolutely  ...  yuck  \\\n",
              "top engage member community week happy                     0.0  ...   0.0   \n",
              "hey jam odd skeptical please call contact able ...         0.0  ...   0.0   \n",
              "listen last night happy bleed amaze track                  0.0  ...   0.0   \n",
              "happy                                                      0.0  ...   0.0   \n",
              "verify succeed get blue tick mark profile happy...         0.0  ...   0.0   \n",
              "\n",
              "                                                    yummy  zac  zante  zero  \\\n",
              "top engage member community week happy                0.0  0.0    0.0   0.0   \n",
              "hey jam odd skeptical please call contact able ...    0.0  0.0    0.0   0.0   \n",
              "listen last night happy bleed amaze track             0.0  0.0    0.0   0.0   \n",
              "happy                                                 0.0  0.0    0.0   0.0   \n",
              "verify succeed get blue tick mark profile happy...    0.0  0.0    0.0   0.0   \n",
              "\n",
              "                                                    zipper  zodiac  zone  zoo  \\\n",
              "top engage member community week happy                 0.0     0.0   0.0  0.0   \n",
              "hey jam odd skeptical please call contact able ...     0.0     0.0   0.0  0.0   \n",
              "listen last night happy bleed amaze track              0.0     0.0   0.0  0.0   \n",
              "happy                                                  0.0     0.0   0.0  0.0   \n",
              "verify succeed get blue tick mark profile happy...     0.0     0.0   0.0  0.0   \n",
              "\n",
              "                                                    zoom  \n",
              "top engage member community week happy               0.0  \n",
              "hey jam odd skeptical please call contact able ...   0.0  \n",
              "listen last night happy bleed amaze track            0.0  \n",
              "happy                                                0.0  \n",
              "verify succeed get blue tick mark profile happy...   0.0  \n",
              "\n",
              "[5 rows x 4621 columns]"
            ],
            "text/html": [
              "\n",
              "  <div id=\"df-cc365e07-cd88-4582-b32a-7c5ddb22b883\" class=\"colab-df-container\">\n",
              "    <div>\n",
              "<style scoped>\n",
              "    .dataframe tbody tr th:only-of-type {\n",
              "        vertical-align: middle;\n",
              "    }\n",
              "\n",
              "    .dataframe tbody tr th {\n",
              "        vertical-align: top;\n",
              "    }\n",
              "\n",
              "    .dataframe thead th {\n",
              "        text-align: right;\n",
              "    }\n",
              "</style>\n",
              "<table border=\"1\" class=\"dataframe\">\n",
              "  <thead>\n",
              "    <tr style=\"text-align: right;\">\n",
              "      <th></th>\n",
              "      <th>aa</th>\n",
              "      <th>abandon</th>\n",
              "      <th>able</th>\n",
              "      <th>aboard</th>\n",
              "      <th>abroad</th>\n",
              "      <th>abrupt</th>\n",
              "      <th>abscess</th>\n",
              "      <th>absent</th>\n",
              "      <th>absolute</th>\n",
              "      <th>absolutely</th>\n",
              "      <th>...</th>\n",
              "      <th>yuck</th>\n",
              "      <th>yummy</th>\n",
              "      <th>zac</th>\n",
              "      <th>zante</th>\n",
              "      <th>zero</th>\n",
              "      <th>zipper</th>\n",
              "      <th>zodiac</th>\n",
              "      <th>zone</th>\n",
              "      <th>zoo</th>\n",
              "      <th>zoom</th>\n",
              "    </tr>\n",
              "  </thead>\n",
              "  <tbody>\n",
              "    <tr>\n",
              "      <th>top engage member community week happy</th>\n",
              "      <td>0.0</td>\n",
              "      <td>0.0</td>\n",
              "      <td>0.000000</td>\n",
              "      <td>0.0</td>\n",
              "      <td>0.0</td>\n",
              "      <td>0.0</td>\n",
              "      <td>0.0</td>\n",
              "      <td>0.0</td>\n",
              "      <td>0.0</td>\n",
              "      <td>0.0</td>\n",
              "      <td>...</td>\n",
              "      <td>0.0</td>\n",
              "      <td>0.0</td>\n",
              "      <td>0.0</td>\n",
              "      <td>0.0</td>\n",
              "      <td>0.0</td>\n",
              "      <td>0.0</td>\n",
              "      <td>0.0</td>\n",
              "      <td>0.0</td>\n",
              "      <td>0.0</td>\n",
              "      <td>0.0</td>\n",
              "    </tr>\n",
              "    <tr>\n",
              "      <th>hey jam odd skeptical please call contact able assist many thank</th>\n",
              "      <td>0.0</td>\n",
              "      <td>0.0</td>\n",
              "      <td>0.292945</td>\n",
              "      <td>0.0</td>\n",
              "      <td>0.0</td>\n",
              "      <td>0.0</td>\n",
              "      <td>0.0</td>\n",
              "      <td>0.0</td>\n",
              "      <td>0.0</td>\n",
              "      <td>0.0</td>\n",
              "      <td>...</td>\n",
              "      <td>0.0</td>\n",
              "      <td>0.0</td>\n",
              "      <td>0.0</td>\n",
              "      <td>0.0</td>\n",
              "      <td>0.0</td>\n",
              "      <td>0.0</td>\n",
              "      <td>0.0</td>\n",
              "      <td>0.0</td>\n",
              "      <td>0.0</td>\n",
              "      <td>0.0</td>\n",
              "    </tr>\n",
              "    <tr>\n",
              "      <th>listen last night happy bleed amaze track</th>\n",
              "      <td>0.0</td>\n",
              "      <td>0.0</td>\n",
              "      <td>0.000000</td>\n",
              "      <td>0.0</td>\n",
              "      <td>0.0</td>\n",
              "      <td>0.0</td>\n",
              "      <td>0.0</td>\n",
              "      <td>0.0</td>\n",
              "      <td>0.0</td>\n",
              "      <td>0.0</td>\n",
              "      <td>...</td>\n",
              "      <td>0.0</td>\n",
              "      <td>0.0</td>\n",
              "      <td>0.0</td>\n",
              "      <td>0.0</td>\n",
              "      <td>0.0</td>\n",
              "      <td>0.0</td>\n",
              "      <td>0.0</td>\n",
              "      <td>0.0</td>\n",
              "      <td>0.0</td>\n",
              "      <td>0.0</td>\n",
              "    </tr>\n",
              "    <tr>\n",
              "      <th>happy</th>\n",
              "      <td>0.0</td>\n",
              "      <td>0.0</td>\n",
              "      <td>0.000000</td>\n",
              "      <td>0.0</td>\n",
              "      <td>0.0</td>\n",
              "      <td>0.0</td>\n",
              "      <td>0.0</td>\n",
              "      <td>0.0</td>\n",
              "      <td>0.0</td>\n",
              "      <td>0.0</td>\n",
              "      <td>...</td>\n",
              "      <td>0.0</td>\n",
              "      <td>0.0</td>\n",
              "      <td>0.0</td>\n",
              "      <td>0.0</td>\n",
              "      <td>0.0</td>\n",
              "      <td>0.0</td>\n",
              "      <td>0.0</td>\n",
              "      <td>0.0</td>\n",
              "      <td>0.0</td>\n",
              "      <td>0.0</td>\n",
              "    </tr>\n",
              "    <tr>\n",
              "      <th>verify succeed get blue tick mark profile happy day</th>\n",
              "      <td>0.0</td>\n",
              "      <td>0.0</td>\n",
              "      <td>0.000000</td>\n",
              "      <td>0.0</td>\n",
              "      <td>0.0</td>\n",
              "      <td>0.0</td>\n",
              "      <td>0.0</td>\n",
              "      <td>0.0</td>\n",
              "      <td>0.0</td>\n",
              "      <td>0.0</td>\n",
              "      <td>...</td>\n",
              "      <td>0.0</td>\n",
              "      <td>0.0</td>\n",
              "      <td>0.0</td>\n",
              "      <td>0.0</td>\n",
              "      <td>0.0</td>\n",
              "      <td>0.0</td>\n",
              "      <td>0.0</td>\n",
              "      <td>0.0</td>\n",
              "      <td>0.0</td>\n",
              "      <td>0.0</td>\n",
              "    </tr>\n",
              "  </tbody>\n",
              "</table>\n",
              "<p>5 rows × 4621 columns</p>\n",
              "</div>\n",
              "    <div class=\"colab-df-buttons\">\n",
              "\n",
              "  <div class=\"colab-df-container\">\n",
              "    <button class=\"colab-df-convert\" onclick=\"convertToInteractive('df-cc365e07-cd88-4582-b32a-7c5ddb22b883')\"\n",
              "            title=\"Convert this dataframe to an interactive table.\"\n",
              "            style=\"display:none;\">\n",
              "\n",
              "  <svg xmlns=\"http://www.w3.org/2000/svg\" height=\"24px\" viewBox=\"0 -960 960 960\">\n",
              "    <path d=\"M120-120v-720h720v720H120Zm60-500h600v-160H180v160Zm220 220h160v-160H400v160Zm0 220h160v-160H400v160ZM180-400h160v-160H180v160Zm440 0h160v-160H620v160ZM180-180h160v-160H180v160Zm440 0h160v-160H620v160Z\"/>\n",
              "  </svg>\n",
              "    </button>\n",
              "\n",
              "  <style>\n",
              "    .colab-df-container {\n",
              "      display:flex;\n",
              "      gap: 12px;\n",
              "    }\n",
              "\n",
              "    .colab-df-convert {\n",
              "      background-color: #E8F0FE;\n",
              "      border: none;\n",
              "      border-radius: 50%;\n",
              "      cursor: pointer;\n",
              "      display: none;\n",
              "      fill: #1967D2;\n",
              "      height: 32px;\n",
              "      padding: 0 0 0 0;\n",
              "      width: 32px;\n",
              "    }\n",
              "\n",
              "    .colab-df-convert:hover {\n",
              "      background-color: #E2EBFA;\n",
              "      box-shadow: 0px 1px 2px rgba(60, 64, 67, 0.3), 0px 1px 3px 1px rgba(60, 64, 67, 0.15);\n",
              "      fill: #174EA6;\n",
              "    }\n",
              "\n",
              "    .colab-df-buttons div {\n",
              "      margin-bottom: 4px;\n",
              "    }\n",
              "\n",
              "    [theme=dark] .colab-df-convert {\n",
              "      background-color: #3B4455;\n",
              "      fill: #D2E3FC;\n",
              "    }\n",
              "\n",
              "    [theme=dark] .colab-df-convert:hover {\n",
              "      background-color: #434B5C;\n",
              "      box-shadow: 0px 1px 3px 1px rgba(0, 0, 0, 0.15);\n",
              "      filter: drop-shadow(0px 1px 2px rgba(0, 0, 0, 0.3));\n",
              "      fill: #FFFFFF;\n",
              "    }\n",
              "  </style>\n",
              "\n",
              "    <script>\n",
              "      const buttonEl =\n",
              "        document.querySelector('#df-cc365e07-cd88-4582-b32a-7c5ddb22b883 button.colab-df-convert');\n",
              "      buttonEl.style.display =\n",
              "        google.colab.kernel.accessAllowed ? 'block' : 'none';\n",
              "\n",
              "      async function convertToInteractive(key) {\n",
              "        const element = document.querySelector('#df-cc365e07-cd88-4582-b32a-7c5ddb22b883');\n",
              "        const dataTable =\n",
              "          await google.colab.kernel.invokeFunction('convertToInteractive',\n",
              "                                                    [key], {});\n",
              "        if (!dataTable) return;\n",
              "\n",
              "        const docLinkHtml = 'Like what you see? Visit the ' +\n",
              "          '<a target=\"_blank\" href=https://colab.research.google.com/notebooks/data_table.ipynb>data table notebook</a>'\n",
              "          + ' to learn more about interactive tables.';\n",
              "        element.innerHTML = '';\n",
              "        dataTable['output_type'] = 'display_data';\n",
              "        await google.colab.output.renderOutput(dataTable, element);\n",
              "        const docLink = document.createElement('div');\n",
              "        docLink.innerHTML = docLinkHtml;\n",
              "        element.appendChild(docLink);\n",
              "      }\n",
              "    </script>\n",
              "  </div>\n",
              "\n",
              "\n",
              "<div id=\"df-71f582b9-9d08-409b-923a-4d49736b5487\">\n",
              "  <button class=\"colab-df-quickchart\" onclick=\"quickchart('df-71f582b9-9d08-409b-923a-4d49736b5487')\"\n",
              "            title=\"Suggest charts\"\n",
              "            style=\"display:none;\">\n",
              "\n",
              "<svg xmlns=\"http://www.w3.org/2000/svg\" height=\"24px\"viewBox=\"0 0 24 24\"\n",
              "     width=\"24px\">\n",
              "    <g>\n",
              "        <path d=\"M19 3H5c-1.1 0-2 .9-2 2v14c0 1.1.9 2 2 2h14c1.1 0 2-.9 2-2V5c0-1.1-.9-2-2-2zM9 17H7v-7h2v7zm4 0h-2V7h2v10zm4 0h-2v-4h2v4z\"/>\n",
              "    </g>\n",
              "</svg>\n",
              "  </button>\n",
              "\n",
              "<style>\n",
              "  .colab-df-quickchart {\n",
              "      --bg-color: #E8F0FE;\n",
              "      --fill-color: #1967D2;\n",
              "      --hover-bg-color: #E2EBFA;\n",
              "      --hover-fill-color: #174EA6;\n",
              "      --disabled-fill-color: #AAA;\n",
              "      --disabled-bg-color: #DDD;\n",
              "  }\n",
              "\n",
              "  [theme=dark] .colab-df-quickchart {\n",
              "      --bg-color: #3B4455;\n",
              "      --fill-color: #D2E3FC;\n",
              "      --hover-bg-color: #434B5C;\n",
              "      --hover-fill-color: #FFFFFF;\n",
              "      --disabled-bg-color: #3B4455;\n",
              "      --disabled-fill-color: #666;\n",
              "  }\n",
              "\n",
              "  .colab-df-quickchart {\n",
              "    background-color: var(--bg-color);\n",
              "    border: none;\n",
              "    border-radius: 50%;\n",
              "    cursor: pointer;\n",
              "    display: none;\n",
              "    fill: var(--fill-color);\n",
              "    height: 32px;\n",
              "    padding: 0;\n",
              "    width: 32px;\n",
              "  }\n",
              "\n",
              "  .colab-df-quickchart:hover {\n",
              "    background-color: var(--hover-bg-color);\n",
              "    box-shadow: 0 1px 2px rgba(60, 64, 67, 0.3), 0 1px 3px 1px rgba(60, 64, 67, 0.15);\n",
              "    fill: var(--button-hover-fill-color);\n",
              "  }\n",
              "\n",
              "  .colab-df-quickchart-complete:disabled,\n",
              "  .colab-df-quickchart-complete:disabled:hover {\n",
              "    background-color: var(--disabled-bg-color);\n",
              "    fill: var(--disabled-fill-color);\n",
              "    box-shadow: none;\n",
              "  }\n",
              "\n",
              "  .colab-df-spinner {\n",
              "    border: 2px solid var(--fill-color);\n",
              "    border-color: transparent;\n",
              "    border-bottom-color: var(--fill-color);\n",
              "    animation:\n",
              "      spin 1s steps(1) infinite;\n",
              "  }\n",
              "\n",
              "  @keyframes spin {\n",
              "    0% {\n",
              "      border-color: transparent;\n",
              "      border-bottom-color: var(--fill-color);\n",
              "      border-left-color: var(--fill-color);\n",
              "    }\n",
              "    20% {\n",
              "      border-color: transparent;\n",
              "      border-left-color: var(--fill-color);\n",
              "      border-top-color: var(--fill-color);\n",
              "    }\n",
              "    30% {\n",
              "      border-color: transparent;\n",
              "      border-left-color: var(--fill-color);\n",
              "      border-top-color: var(--fill-color);\n",
              "      border-right-color: var(--fill-color);\n",
              "    }\n",
              "    40% {\n",
              "      border-color: transparent;\n",
              "      border-right-color: var(--fill-color);\n",
              "      border-top-color: var(--fill-color);\n",
              "    }\n",
              "    60% {\n",
              "      border-color: transparent;\n",
              "      border-right-color: var(--fill-color);\n",
              "    }\n",
              "    80% {\n",
              "      border-color: transparent;\n",
              "      border-right-color: var(--fill-color);\n",
              "      border-bottom-color: var(--fill-color);\n",
              "    }\n",
              "    90% {\n",
              "      border-color: transparent;\n",
              "      border-bottom-color: var(--fill-color);\n",
              "    }\n",
              "  }\n",
              "</style>\n",
              "\n",
              "  <script>\n",
              "    async function quickchart(key) {\n",
              "      const quickchartButtonEl =\n",
              "        document.querySelector('#' + key + ' button');\n",
              "      quickchartButtonEl.disabled = true;  // To prevent multiple clicks.\n",
              "      quickchartButtonEl.classList.add('colab-df-spinner');\n",
              "      try {\n",
              "        const charts = await google.colab.kernel.invokeFunction(\n",
              "            'suggestCharts', [key], {});\n",
              "      } catch (error) {\n",
              "        console.error('Error during call to suggestCharts:', error);\n",
              "      }\n",
              "      quickchartButtonEl.classList.remove('colab-df-spinner');\n",
              "      quickchartButtonEl.classList.add('colab-df-quickchart-complete');\n",
              "    }\n",
              "    (() => {\n",
              "      let quickchartButtonEl =\n",
              "        document.querySelector('#df-71f582b9-9d08-409b-923a-4d49736b5487 button');\n",
              "      quickchartButtonEl.style.display =\n",
              "        google.colab.kernel.accessAllowed ? 'block' : 'none';\n",
              "    })();\n",
              "  </script>\n",
              "</div>\n",
              "\n",
              "    </div>\n",
              "  </div>\n"
            ],
            "application/vnd.google.colaboratory.intrinsic+json": {
              "type": "dataframe",
              "variable_name": "TFdf"
            }
          },
          "metadata": {},
          "execution_count": 332
        }
      ]
    },
    {
      "cell_type": "markdown",
      "source": [
        "## RNN"
      ],
      "metadata": {
        "id": "kh-OmLzN8Mq4"
      }
    },
    {
      "cell_type": "code",
      "source": [
        "class SimpleRNN(nn.Module):\n",
        "  def __init__(self, input_size, hidden_size, output_size):\n",
        "    super(SimpleRNN, self).__init__()\n",
        "    self.rnn = nn.RNN(input_size, hidden_size, batch_first=True)\n",
        "    self.rnn1 = nn.RNN(hidden_size, int(hidden_size/2), batch_first=True)\n",
        "    self.fc = nn.Linear(int(hidden_size/2), output_size)\n",
        "\n",
        "  def forward(self, x):\n",
        "    h0 = torch.zeros(1, x.size(0), self.rnn.hidden_size).to(x.device)\n",
        "    out, _ = self.rnn(x,h0)\n",
        "    h1 = torch.zeros(1, x.size(0), self.rnn1.hidden_size).to(x.device)\n",
        "    out, _ = self.rnn1(out,h1)\n",
        "    out = self.fc(out[:, -1, :])\n",
        "    out = torch.sigmoid(out)\n",
        "    return out"
      ],
      "metadata": {
        "id": "kY2hKZkh2EEY"
      },
      "execution_count": 426,
      "outputs": []
    },
    {
      "cell_type": "code",
      "source": [
        "print(TFdf.shape[1])\n",
        "input_size = TFdf.shape[1]\n",
        "hidden_size = 32\n",
        "output_size = 1\n",
        "model = SimpleRNN(input_size, hidden_size, output_size)"
      ],
      "metadata": {
        "colab": {
          "base_uri": "https://localhost:8080/"
        },
        "id": "4nO5wPFn4Xyh",
        "outputId": "c78e7dec-33bd-4876-a462-803a620b92e0"
      },
      "execution_count": 427,
      "outputs": [
        {
          "output_type": "stream",
          "name": "stdout",
          "text": [
            "4621\n"
          ]
        }
      ]
    },
    {
      "cell_type": "code",
      "source": [
        "feature_tensor = torch.tensor(TFdf.values, dtype=torch.float32)\n",
        "label_tensor = torch.tensor(df['label'], dtype=torch.float32)\n",
        "\n",
        "dataset = TensorDataset(feature_tensor, label_tensor)\n",
        "train_size = int(0.8 * len(dataset))\n",
        "test_size = len(dataset) - train_size\n",
        "train_dataset, test_dataset = random_split(dataset, [train_size, test_size])\n",
        "\n",
        "batch_size = 32\n",
        "train_loader = DataLoader(train_dataset, batch_size=batch_size, shuffle=True)\n",
        "test_loader = DataLoader(test_dataset, batch_size=batch_size, shuffle=False)"
      ],
      "metadata": {
        "id": "IFW322ek9Oi4"
      },
      "execution_count": 428,
      "outputs": []
    },
    {
      "cell_type": "code",
      "source": [
        "criterion = nn.BCELoss()\n",
        "optimizer = Adam(model.parameters(), lr=0.001)\n",
        "\n",
        "num_epochs = 15\n",
        "model.train()\n",
        "\n",
        "for epoch in range(num_epochs):\n",
        "  for batch_features, batch_labels in train_loader:\n",
        "    batch_features = batch_features.view(batch_features.size(0), 1, -1)\n",
        "    outputs = model(batch_features)\n",
        "    loss = criterion(outputs.squeeze(), batch_labels)\n",
        "    optimizer.zero_grad()\n",
        "    loss.backward()\n",
        "    optimizer.step()\n",
        "  print(f'Epoch [{epoch+1}/{num_epochs}], Loss: {loss.item():.4f}')"
      ],
      "metadata": {
        "colab": {
          "base_uri": "https://localhost:8080/"
        },
        "id": "Suq78S54552u",
        "outputId": "6d5e41c4-838d-4019-c30d-42cbac039194"
      },
      "execution_count": 429,
      "outputs": [
        {
          "output_type": "stream",
          "name": "stdout",
          "text": [
            "Epoch [1/15], Loss: 0.0613\n",
            "Epoch [2/15], Loss: 0.0145\n",
            "Epoch [3/15], Loss: 0.0334\n",
            "Epoch [4/15], Loss: 0.0011\n",
            "Epoch [5/15], Loss: 0.0008\n",
            "Epoch [6/15], Loss: 0.0007\n",
            "Epoch [7/15], Loss: 0.0007\n",
            "Epoch [8/15], Loss: 0.0007\n",
            "Epoch [9/15], Loss: 0.0001\n",
            "Epoch [10/15], Loss: 0.0002\n",
            "Epoch [11/15], Loss: 0.0001\n",
            "Epoch [12/15], Loss: 0.0001\n",
            "Epoch [13/15], Loss: 0.0001\n",
            "Epoch [14/15], Loss: 0.0003\n",
            "Epoch [15/15], Loss: 0.3606\n"
          ]
        }
      ]
    },
    {
      "cell_type": "code",
      "source": [
        "model.eval()\n",
        "with torch.no_grad():\n",
        "  correct = 0\n",
        "  total = 0\n",
        "  for batch_features, batch_labels in test_loader:\n",
        "    batch_features = batch_features.view(batch_features.size(0), 1, -1)\n",
        "    outputs = model(batch_features)\n",
        "    predicted = (outputs > 0.5).int()\n",
        "    total += batch_labels.size(0)\n",
        "    correct += (predicted.squeeze() == batch_labels).sum().item()\n",
        "  accuracy = 100 * correct / total\n",
        "  print(f'Accuracy on test set: {accuracy:.2f}%')"
      ],
      "metadata": {
        "colab": {
          "base_uri": "https://localhost:8080/"
        },
        "id": "2Cmz8zfR9gCl",
        "outputId": "c16b5def-352c-4081-cac4-2cbf71b9f731"
      },
      "execution_count": 433,
      "outputs": [
        {
          "output_type": "stream",
          "name": "stdout",
          "text": [
            "Accuracy on test set: 97.39%\n"
          ]
        }
      ]
    }
  ]
}